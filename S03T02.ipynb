{
 "cells": [
  {
   "cell_type": "markdown",
   "id": "4f3498cc",
   "metadata": {},
   "source": [
    "# S03T02"
   ]
  },
  {
   "cell_type": "markdown",
   "id": "1947a482",
   "metadata": {},
   "source": [
    "## Exercici 1 - Realitza la pràctica del notebook a GitHub \"03 EXAMINING DATA\" amb seaborn i el dataset \"tips\""
   ]
  },
  {
   "cell_type": "markdown",
   "id": "b66c9e59",
   "metadata": {},
   "source": [
    "#### Inicialitzem llibreries"
   ]
  },
  {
   "cell_type": "code",
   "execution_count": 1,
   "id": "7655f6ac",
   "metadata": {},
   "outputs": [],
   "source": [
    "import numpy as np\n",
    "import pandas as pd\n",
    "import matplotlib.pyplot as plt\n",
    "import seaborn as sns\n",
    "import warnings\n",
    "\n",
    "warnings.filterwarnings('ignore')"
   ]
  },
  {
   "cell_type": "markdown",
   "id": "9bd2811b",
   "metadata": {},
   "source": [
    "#### Importem el csv a un DataFrame, i mostrem els primers resultats per veure que te el DataFrame"
   ]
  },
  {
   "cell_type": "code",
   "execution_count": 2,
   "id": "6efc1ede",
   "metadata": {},
   "outputs": [
    {
     "data": {
      "text/html": [
       "<div>\n",
       "<style scoped>\n",
       "    .dataframe tbody tr th:only-of-type {\n",
       "        vertical-align: middle;\n",
       "    }\n",
       "\n",
       "    .dataframe tbody tr th {\n",
       "        vertical-align: top;\n",
       "    }\n",
       "\n",
       "    .dataframe thead th {\n",
       "        text-align: right;\n",
       "    }\n",
       "</style>\n",
       "<table border=\"1\" class=\"dataframe\">\n",
       "  <thead>\n",
       "    <tr style=\"text-align: right;\">\n",
       "      <th></th>\n",
       "      <th>total_bill</th>\n",
       "      <th>tip</th>\n",
       "      <th>sex</th>\n",
       "      <th>smoker</th>\n",
       "      <th>day</th>\n",
       "      <th>time</th>\n",
       "      <th>size</th>\n",
       "    </tr>\n",
       "  </thead>\n",
       "  <tbody>\n",
       "    <tr>\n",
       "      <th>0</th>\n",
       "      <td>16.99</td>\n",
       "      <td>1.01</td>\n",
       "      <td>Female</td>\n",
       "      <td>No</td>\n",
       "      <td>Sun</td>\n",
       "      <td>Dinner</td>\n",
       "      <td>2</td>\n",
       "    </tr>\n",
       "    <tr>\n",
       "      <th>1</th>\n",
       "      <td>10.34</td>\n",
       "      <td>1.66</td>\n",
       "      <td>Male</td>\n",
       "      <td>No</td>\n",
       "      <td>Sun</td>\n",
       "      <td>Dinner</td>\n",
       "      <td>3</td>\n",
       "    </tr>\n",
       "    <tr>\n",
       "      <th>2</th>\n",
       "      <td>21.01</td>\n",
       "      <td>3.50</td>\n",
       "      <td>Male</td>\n",
       "      <td>No</td>\n",
       "      <td>Sun</td>\n",
       "      <td>Dinner</td>\n",
       "      <td>3</td>\n",
       "    </tr>\n",
       "    <tr>\n",
       "      <th>3</th>\n",
       "      <td>23.68</td>\n",
       "      <td>3.31</td>\n",
       "      <td>Male</td>\n",
       "      <td>No</td>\n",
       "      <td>Sun</td>\n",
       "      <td>Dinner</td>\n",
       "      <td>2</td>\n",
       "    </tr>\n",
       "    <tr>\n",
       "      <th>4</th>\n",
       "      <td>24.59</td>\n",
       "      <td>3.61</td>\n",
       "      <td>Female</td>\n",
       "      <td>No</td>\n",
       "      <td>Sun</td>\n",
       "      <td>Dinner</td>\n",
       "      <td>4</td>\n",
       "    </tr>\n",
       "  </tbody>\n",
       "</table>\n",
       "</div>"
      ],
      "text/plain": [
       "   total_bill   tip     sex smoker  day    time  size\n",
       "0       16.99  1.01  Female     No  Sun  Dinner     2\n",
       "1       10.34  1.66    Male     No  Sun  Dinner     3\n",
       "2       21.01  3.50    Male     No  Sun  Dinner     3\n",
       "3       23.68  3.31    Male     No  Sun  Dinner     2\n",
       "4       24.59  3.61  Female     No  Sun  Dinner     4"
      ]
     },
     "execution_count": 2,
     "metadata": {},
     "output_type": "execute_result"
    }
   ],
   "source": [
    "tips = pd.read_csv('S03T02\\\\tips.csv', sep = ',', encoding = 'utf-8')\n",
    "tips.head()"
   ]
  },
  {
   "cell_type": "markdown",
   "id": "0bdfe9f1",
   "metadata": {},
   "source": [
    "#### Mirem quantes columnes i files te, en aquest cas 7 columes i 244 registres"
   ]
  },
  {
   "cell_type": "code",
   "execution_count": 45,
   "id": "15ef70c3",
   "metadata": {},
   "outputs": [
    {
     "data": {
      "text/plain": [
       "(244, 7)"
      ]
     },
     "execution_count": 45,
     "metadata": {},
     "output_type": "execute_result"
    }
   ],
   "source": [
    "tips.shape"
   ]
  },
  {
   "cell_type": "markdown",
   "id": "dcfe2f29",
   "metadata": {},
   "source": [
    "#### Obtenim el nº de dimensions"
   ]
  },
  {
   "cell_type": "code",
   "execution_count": 46,
   "id": "51f0416b",
   "metadata": {},
   "outputs": [
    {
     "data": {
      "text/plain": [
       "2"
      ]
     },
     "execution_count": 46,
     "metadata": {},
     "output_type": "execute_result"
    }
   ],
   "source": [
    "tips.ndim"
   ]
  },
  {
   "cell_type": "markdown",
   "id": "9a2c0c59",
   "metadata": {},
   "source": [
    "#### Obtenim els index de les columnes"
   ]
  },
  {
   "cell_type": "code",
   "execution_count": 47,
   "id": "79ed0d05",
   "metadata": {},
   "outputs": [
    {
     "data": {
      "text/plain": [
       "Index(['total_bill', 'tip', 'sex', 'smoker', 'day', 'time', 'size'], dtype='object')"
      ]
     },
     "execution_count": 47,
     "metadata": {},
     "output_type": "execute_result"
    }
   ],
   "source": [
    "tips.columns"
   ]
  },
  {
   "cell_type": "markdown",
   "id": "09fee936",
   "metadata": {},
   "source": [
    "#### Obtenim els tipus de les columnes"
   ]
  },
  {
   "cell_type": "code",
   "execution_count": 48,
   "id": "3c13afd4",
   "metadata": {},
   "outputs": [
    {
     "data": {
      "text/plain": [
       "total_bill    float64\n",
       "tip           float64\n",
       "sex            object\n",
       "smoker         object\n",
       "day            object\n",
       "time           object\n",
       "size            int64\n",
       "dtype: object"
      ]
     },
     "execution_count": 48,
     "metadata": {},
     "output_type": "execute_result"
    }
   ],
   "source": [
    "tips.dtypes"
   ]
  },
  {
   "cell_type": "markdown",
   "id": "edc7bf01",
   "metadata": {},
   "source": [
    "#### Afegim una columna amb el % que de la propina sobre el total"
   ]
  },
  {
   "cell_type": "code",
   "execution_count": 3,
   "id": "b0cfefe6",
   "metadata": {},
   "outputs": [
    {
     "data": {
      "text/html": [
       "<div>\n",
       "<style scoped>\n",
       "    .dataframe tbody tr th:only-of-type {\n",
       "        vertical-align: middle;\n",
       "    }\n",
       "\n",
       "    .dataframe tbody tr th {\n",
       "        vertical-align: top;\n",
       "    }\n",
       "\n",
       "    .dataframe thead th {\n",
       "        text-align: right;\n",
       "    }\n",
       "</style>\n",
       "<table border=\"1\" class=\"dataframe\">\n",
       "  <thead>\n",
       "    <tr style=\"text-align: right;\">\n",
       "      <th></th>\n",
       "      <th>total_bill</th>\n",
       "      <th>tip</th>\n",
       "      <th>sex</th>\n",
       "      <th>smoker</th>\n",
       "      <th>day</th>\n",
       "      <th>time</th>\n",
       "      <th>size</th>\n",
       "      <th>tip_pct</th>\n",
       "    </tr>\n",
       "  </thead>\n",
       "  <tbody>\n",
       "    <tr>\n",
       "      <th>0</th>\n",
       "      <td>16.99</td>\n",
       "      <td>1.01</td>\n",
       "      <td>Female</td>\n",
       "      <td>No</td>\n",
       "      <td>Sun</td>\n",
       "      <td>Dinner</td>\n",
       "      <td>2</td>\n",
       "      <td>6.32</td>\n",
       "    </tr>\n",
       "    <tr>\n",
       "      <th>1</th>\n",
       "      <td>10.34</td>\n",
       "      <td>1.66</td>\n",
       "      <td>Male</td>\n",
       "      <td>No</td>\n",
       "      <td>Sun</td>\n",
       "      <td>Dinner</td>\n",
       "      <td>3</td>\n",
       "      <td>19.12</td>\n",
       "    </tr>\n",
       "    <tr>\n",
       "      <th>2</th>\n",
       "      <td>21.01</td>\n",
       "      <td>3.50</td>\n",
       "      <td>Male</td>\n",
       "      <td>No</td>\n",
       "      <td>Sun</td>\n",
       "      <td>Dinner</td>\n",
       "      <td>3</td>\n",
       "      <td>19.99</td>\n",
       "    </tr>\n",
       "    <tr>\n",
       "      <th>3</th>\n",
       "      <td>23.68</td>\n",
       "      <td>3.31</td>\n",
       "      <td>Male</td>\n",
       "      <td>No</td>\n",
       "      <td>Sun</td>\n",
       "      <td>Dinner</td>\n",
       "      <td>2</td>\n",
       "      <td>16.25</td>\n",
       "    </tr>\n",
       "    <tr>\n",
       "      <th>4</th>\n",
       "      <td>24.59</td>\n",
       "      <td>3.61</td>\n",
       "      <td>Female</td>\n",
       "      <td>No</td>\n",
       "      <td>Sun</td>\n",
       "      <td>Dinner</td>\n",
       "      <td>4</td>\n",
       "      <td>17.21</td>\n",
       "    </tr>\n",
       "  </tbody>\n",
       "</table>\n",
       "</div>"
      ],
      "text/plain": [
       "   total_bill   tip     sex smoker  day    time  size  tip_pct\n",
       "0       16.99  1.01  Female     No  Sun  Dinner     2     6.32\n",
       "1       10.34  1.66    Male     No  Sun  Dinner     3    19.12\n",
       "2       21.01  3.50    Male     No  Sun  Dinner     3    19.99\n",
       "3       23.68  3.31    Male     No  Sun  Dinner     2    16.25\n",
       "4       24.59  3.61  Female     No  Sun  Dinner     4    17.21"
      ]
     },
     "execution_count": 3,
     "metadata": {},
     "output_type": "execute_result"
    }
   ],
   "source": [
    "tips['tip_pct'] = round((tips['tip'] / (tips['total_bill'] - tips['tip']))*100, 2)\n",
    "tips.head()"
   ]
  },
  {
   "cell_type": "markdown",
   "id": "7db2aee5",
   "metadata": {},
   "source": [
    "#### Treiem informació de la columna tip"
   ]
  },
  {
   "cell_type": "code",
   "execution_count": 33,
   "id": "f88f4a5f",
   "metadata": {},
   "outputs": [
    {
     "name": "stdout",
     "output_type": "stream",
     "text": [
      "1.0\n",
      "10.0\n",
      "2.9982786885245902\n",
      "1.3836381890011826\n",
      "244\n",
      "count    244.000000\n",
      "mean       2.998279\n",
      "std        1.383638\n",
      "min        1.000000\n",
      "25%        2.000000\n",
      "50%        2.900000\n",
      "75%        3.562500\n",
      "max       10.000000\n",
      "Name: tip, dtype: float64\n"
     ]
    }
   ],
   "source": [
    "print(tips['tip'].min())\n",
    "print(tips['tip'].max())\n",
    "print(tips['tip'].mean())\n",
    "print(tips['tip'].std())\n",
    "print(tips['tip'].count())\n",
    "print(tips['tip'].describe())"
   ]
  },
  {
   "cell_type": "markdown",
   "id": "c1eb0818",
   "metadata": {},
   "source": [
    "#### Agrupem per fumador"
   ]
  },
  {
   "cell_type": "code",
   "execution_count": 4,
   "id": "8066a966",
   "metadata": {},
   "outputs": [
    {
     "data": {
      "text/html": [
       "<div>\n",
       "<style scoped>\n",
       "    .dataframe tbody tr th:only-of-type {\n",
       "        vertical-align: middle;\n",
       "    }\n",
       "\n",
       "    .dataframe tbody tr th {\n",
       "        vertical-align: top;\n",
       "    }\n",
       "\n",
       "    .dataframe thead tr th {\n",
       "        text-align: left;\n",
       "    }\n",
       "\n",
       "    .dataframe thead tr:last-of-type th {\n",
       "        text-align: right;\n",
       "    }\n",
       "</style>\n",
       "<table border=\"1\" class=\"dataframe\">\n",
       "  <thead>\n",
       "    <tr>\n",
       "      <th></th>\n",
       "      <th colspan=\"8\" halign=\"left\">total_bill</th>\n",
       "      <th colspan=\"2\" halign=\"left\">tip</th>\n",
       "      <th>...</th>\n",
       "      <th colspan=\"2\" halign=\"left\">size</th>\n",
       "      <th colspan=\"8\" halign=\"left\">tip_pct</th>\n",
       "    </tr>\n",
       "    <tr>\n",
       "      <th></th>\n",
       "      <th>count</th>\n",
       "      <th>mean</th>\n",
       "      <th>std</th>\n",
       "      <th>min</th>\n",
       "      <th>25%</th>\n",
       "      <th>50%</th>\n",
       "      <th>75%</th>\n",
       "      <th>max</th>\n",
       "      <th>count</th>\n",
       "      <th>mean</th>\n",
       "      <th>...</th>\n",
       "      <th>75%</th>\n",
       "      <th>max</th>\n",
       "      <th>count</th>\n",
       "      <th>mean</th>\n",
       "      <th>std</th>\n",
       "      <th>min</th>\n",
       "      <th>25%</th>\n",
       "      <th>50%</th>\n",
       "      <th>75%</th>\n",
       "      <th>max</th>\n",
       "    </tr>\n",
       "    <tr>\n",
       "      <th>smoker</th>\n",
       "      <th></th>\n",
       "      <th></th>\n",
       "      <th></th>\n",
       "      <th></th>\n",
       "      <th></th>\n",
       "      <th></th>\n",
       "      <th></th>\n",
       "      <th></th>\n",
       "      <th></th>\n",
       "      <th></th>\n",
       "      <th></th>\n",
       "      <th></th>\n",
       "      <th></th>\n",
       "      <th></th>\n",
       "      <th></th>\n",
       "      <th></th>\n",
       "      <th></th>\n",
       "      <th></th>\n",
       "      <th></th>\n",
       "      <th></th>\n",
       "      <th></th>\n",
       "    </tr>\n",
       "  </thead>\n",
       "  <tbody>\n",
       "    <tr>\n",
       "      <th>No</th>\n",
       "      <td>151.0</td>\n",
       "      <td>19.188278</td>\n",
       "      <td>8.255582</td>\n",
       "      <td>7.25</td>\n",
       "      <td>13.325</td>\n",
       "      <td>17.59</td>\n",
       "      <td>22.755</td>\n",
       "      <td>48.33</td>\n",
       "      <td>151.0</td>\n",
       "      <td>2.991854</td>\n",
       "      <td>...</td>\n",
       "      <td>3.0</td>\n",
       "      <td>6.0</td>\n",
       "      <td>151.0</td>\n",
       "      <td>19.223709</td>\n",
       "      <td>5.766671</td>\n",
       "      <td>6.02</td>\n",
       "      <td>15.865</td>\n",
       "      <td>18.43</td>\n",
       "      <td>22.705</td>\n",
       "      <td>41.24</td>\n",
       "    </tr>\n",
       "    <tr>\n",
       "      <th>Yes</th>\n",
       "      <td>93.0</td>\n",
       "      <td>20.756344</td>\n",
       "      <td>9.832154</td>\n",
       "      <td>3.07</td>\n",
       "      <td>13.420</td>\n",
       "      <td>17.92</td>\n",
       "      <td>26.860</td>\n",
       "      <td>50.81</td>\n",
       "      <td>93.0</td>\n",
       "      <td>3.008710</td>\n",
       "      <td>...</td>\n",
       "      <td>3.0</td>\n",
       "      <td>5.0</td>\n",
       "      <td>93.0</td>\n",
       "      <td>21.817742</td>\n",
       "      <td>25.429627</td>\n",
       "      <td>3.70</td>\n",
       "      <td>11.950</td>\n",
       "      <td>18.18</td>\n",
       "      <td>24.230</td>\n",
       "      <td>245.24</td>\n",
       "    </tr>\n",
       "  </tbody>\n",
       "</table>\n",
       "<p>2 rows × 32 columns</p>\n",
       "</div>"
      ],
      "text/plain": [
       "       total_bill                                                           \\\n",
       "            count       mean       std   min     25%    50%     75%    max   \n",
       "smoker                                                                       \n",
       "No          151.0  19.188278  8.255582  7.25  13.325  17.59  22.755  48.33   \n",
       "Yes          93.0  20.756344  9.832154  3.07  13.420  17.92  26.860  50.81   \n",
       "\n",
       "          tip            ... size      tip_pct                              \\\n",
       "        count      mean  ...  75%  max   count       mean        std   min   \n",
       "smoker                   ...                                                 \n",
       "No      151.0  2.991854  ...  3.0  6.0   151.0  19.223709   5.766671  6.02   \n",
       "Yes      93.0  3.008710  ...  3.0  5.0    93.0  21.817742  25.429627  3.70   \n",
       "\n",
       "                                       \n",
       "           25%    50%     75%     max  \n",
       "smoker                                 \n",
       "No      15.865  18.43  22.705   41.24  \n",
       "Yes     11.950  18.18  24.230  245.24  \n",
       "\n",
       "[2 rows x 32 columns]"
      ]
     },
     "execution_count": 4,
     "metadata": {},
     "output_type": "execute_result"
    }
   ],
   "source": [
    "grouped_data = tips.groupby('smoker')\n",
    "grouped_data.describe()\n",
    "#grouped_data.mean()\n"
   ]
  },
  {
   "cell_type": "markdown",
   "id": "aeab6f2f",
   "metadata": {},
   "source": [
    "#### Agrupem per fumador i sumem la propina (tip)"
   ]
  },
  {
   "cell_type": "code",
   "execution_count": 45,
   "id": "d177349e",
   "metadata": {},
   "outputs": [
    {
     "name": "stdout",
     "output_type": "stream",
     "text": [
      "smoker\n",
      "No     451.77\n",
      "Yes    279.81\n",
      "Name: tip, dtype: float64\n"
     ]
    }
   ],
   "source": [
    "#species_counts = tips.groupby('smoker')['smoker'].count()\n",
    "species_counts = tips.groupby('smoker')['tip'].sum()\n",
    "print(species_counts)"
   ]
  },
  {
   "cell_type": "markdown",
   "id": "a26507ff",
   "metadata": {},
   "source": [
    "#### Agrupem per fumador, i afegim les columnes que volem amb la operació que volem, el pd.Series.nunique ens fa un distinct count"
   ]
  },
  {
   "cell_type": "code",
   "execution_count": 107,
   "id": "0bae5ef5",
   "metadata": {},
   "outputs": [
    {
     "data": {
      "text/html": [
       "<div>\n",
       "<style scoped>\n",
       "    .dataframe tbody tr th:only-of-type {\n",
       "        vertical-align: middle;\n",
       "    }\n",
       "\n",
       "    .dataframe tbody tr th {\n",
       "        vertical-align: top;\n",
       "    }\n",
       "\n",
       "    .dataframe thead tr th {\n",
       "        text-align: left;\n",
       "    }\n",
       "\n",
       "    .dataframe thead tr:last-of-type th {\n",
       "        text-align: right;\n",
       "    }\n",
       "</style>\n",
       "<table border=\"1\" class=\"dataframe\">\n",
       "  <thead>\n",
       "    <tr>\n",
       "      <th></th>\n",
       "      <th colspan=\"2\" halign=\"left\">tip</th>\n",
       "      <th>total_bill</th>\n",
       "      <th>size</th>\n",
       "      <th>sex</th>\n",
       "      <th>day</th>\n",
       "      <th>time</th>\n",
       "    </tr>\n",
       "    <tr>\n",
       "      <th></th>\n",
       "      <th>sum</th>\n",
       "      <th>count</th>\n",
       "      <th>sum</th>\n",
       "      <th>sum</th>\n",
       "      <th>count</th>\n",
       "      <th>nunique</th>\n",
       "      <th>nunique</th>\n",
       "    </tr>\n",
       "    <tr>\n",
       "      <th>smoker</th>\n",
       "      <th></th>\n",
       "      <th></th>\n",
       "      <th></th>\n",
       "      <th></th>\n",
       "      <th></th>\n",
       "      <th></th>\n",
       "      <th></th>\n",
       "    </tr>\n",
       "  </thead>\n",
       "  <tbody>\n",
       "    <tr>\n",
       "      <th>No</th>\n",
       "      <td>451.77</td>\n",
       "      <td>151</td>\n",
       "      <td>2897.43</td>\n",
       "      <td>403</td>\n",
       "      <td>151</td>\n",
       "      <td>4</td>\n",
       "      <td>2</td>\n",
       "    </tr>\n",
       "    <tr>\n",
       "      <th>Yes</th>\n",
       "      <td>279.81</td>\n",
       "      <td>93</td>\n",
       "      <td>1930.34</td>\n",
       "      <td>224</td>\n",
       "      <td>93</td>\n",
       "      <td>4</td>\n",
       "      <td>2</td>\n",
       "    </tr>\n",
       "  </tbody>\n",
       "</table>\n",
       "</div>"
      ],
      "text/plain": [
       "           tip       total_bill size   sex     day    time\n",
       "           sum count        sum  sum count nunique nunique\n",
       "smoker                                                    \n",
       "No      451.77   151    2897.43  403   151       4       2\n",
       "Yes     279.81    93    1930.34  224    93       4       2"
      ]
     },
     "execution_count": 107,
     "metadata": {},
     "output_type": "execute_result"
    }
   ],
   "source": [
    "tips.groupby(['smoker']).agg({'tip': ['sum','count'],'total_bill':'sum','size':'sum','sex':'count','day':pd.Series.nunique,'time':pd.Series.nunique})\n"
   ]
  },
  {
   "cell_type": "markdown",
   "id": "650164fb",
   "metadata": {},
   "source": [
    "#### Grafica de fumadors"
   ]
  },
  {
   "cell_type": "code",
   "execution_count": 67,
   "id": "c051190c",
   "metadata": {},
   "outputs": [
    {
     "name": "stdout",
     "output_type": "stream",
     "text": [
      "      tip_pct\n",
      "day          \n",
      "Fri     11.55\n",
      "Sat      3.70\n",
      "Sun      6.32\n",
      "Thur     7.87\n",
      "      tip_pct\n",
      "day          \n",
      "Fri     35.77\n",
      "Sat     48.31\n",
      "Sun    245.24\n",
      "Thur    36.30\n",
      "        tip_pct\n",
      "day            \n",
      "Fri   20.860000\n",
      "Sat   18.530690\n",
      "Sun   22.571579\n",
      "Thur  19.481935\n"
     ]
    }
   ],
   "source": [
    "print(tips.groupby(['day']).agg({'tip_pct':'min'}))\n",
    "print(tips.groupby(['day']).agg({'tip_pct':'max'}))\n",
    "print(tips.groupby(['day']).agg({'tip_pct':np.average}))\n",
    "#tips.groupby(['day']).sum()\n"
   ]
  },
  {
   "cell_type": "markdown",
   "id": "2364b031",
   "metadata": {},
   "source": [
    "#### Apunts meus"
   ]
  },
  {
   "cell_type": "code",
   "execution_count": 84,
   "id": "06525c36",
   "metadata": {},
   "outputs": [
    {
     "data": {
      "text/plain": [
       "day\n",
       "Fri     20.860000\n",
       "Sat     18.530690\n",
       "Sun     22.571579\n",
       "Thur    19.481935\n",
       "Name: tip_pct, dtype: float64"
      ]
     },
     "execution_count": 84,
     "metadata": {},
     "output_type": "execute_result"
    }
   ],
   "source": [
    "dp2=tips.groupby(['day'])['tip_pct'].mean()\n",
    "\n",
    "dp2"
   ]
  },
  {
   "cell_type": "code",
   "execution_count": 114,
   "id": "aa3b299c",
   "metadata": {},
   "outputs": [
    {
     "name": "stdout",
     "output_type": "stream",
     "text": [
      "396.34000000000003\n",
      "1612.17\n",
      "1715.44\n",
      "1207.88\n"
     ]
    }
   ],
   "source": [
    "#dp2.index\n",
    "for xx in dp2.index :\n",
    "    incide=xx\n",
    "    media=dp2[xx]\n",
    "    var=incide\n",
    "    total=tips.query('day == @var').groupby(['day'])['tip_pct'].sum()[0]\n",
    "    print(total)"
   ]
  },
  {
   "cell_type": "code",
   "execution_count": 105,
   "id": "07ec1553",
   "metadata": {},
   "outputs": [
    {
     "name": "stdout",
     "output_type": "stream",
     "text": [
      "396.34000000000003\n"
     ]
    }
   ],
   "source": [
    "var='Fri'\n",
    "a=tips.query('day == @var').groupby(['day'])['tip_pct'].sum()[0]\n",
    "print(a)\n"
   ]
  },
  {
   "cell_type": "markdown",
   "id": "fc53d24e",
   "metadata": {},
   "source": [
    "#### Fi apunts meus"
   ]
  },
  {
   "cell_type": "markdown",
   "id": "9303f4e0",
   "metadata": {},
   "source": [
    "#### Gràfica de barres amb el promig de les propines per dia de la setmana. La franja negra proporciona alguna indicació de la incertesa al voltant daquesta estimació"
   ]
  },
  {
   "cell_type": "code",
   "execution_count": 5,
   "id": "af7e0615",
   "metadata": {},
   "outputs": [
    {
     "data": {
      "image/png": "[encoded data removed]",
      "text/plain": [
       "<Figure size 432x288 with 1 Axes>"
      ]
     },
     "metadata": {
      "needs_background": "light"
     },
     "output_type": "display_data"
    }
   ],
   "source": [
    "sns.barplot(x='tip_pct', y='day', data=tips, orient=\"h\")\n",
    "plt.show()"
   ]
  },
  {
   "cell_type": "markdown",
   "id": "9898f8ca",
   "metadata": {},
   "source": [
    "#### Grafica de barres amb el promig de les propines, pero agrupat pel camp Sex. Apareixeran tantes columes per dia com valors tingui el camp Sex, en aquest cas 2"
   ]
  },
  {
   "cell_type": "code",
   "execution_count": 126,
   "id": "8ca9fcda",
   "metadata": {},
   "outputs": [
    {
     "data": {
      "image/png": "[encoded data removed]",
      "text/plain": [
       "<Figure size 432x288 with 1 Axes>"
      ]
     },
     "metadata": {
      "needs_background": "light"
     },
     "output_type": "display_data"
    }
   ],
   "source": [
    "sns.barplot(x='tip_pct', y='day', hue='sex', data=tips, orient=\"h\")\n",
    "plt.show()\n"
   ]
  },
  {
   "cell_type": "code",
   "execution_count": 53,
   "id": "16d0ddff",
   "metadata": {},
   "outputs": [
    {
     "data": {
      "text/html": [
       "<div>\n",
       "<style scoped>\n",
       "    .dataframe tbody tr th:only-of-type {\n",
       "        vertical-align: middle;\n",
       "    }\n",
       "\n",
       "    .dataframe tbody tr th {\n",
       "        vertical-align: top;\n",
       "    }\n",
       "\n",
       "    .dataframe thead th {\n",
       "        text-align: right;\n",
       "    }\n",
       "</style>\n",
       "<table border=\"1\" class=\"dataframe\">\n",
       "  <thead>\n",
       "    <tr style=\"text-align: right;\">\n",
       "      <th></th>\n",
       "      <th>total_bill</th>\n",
       "      <th>tip</th>\n",
       "      <th>size</th>\n",
       "      <th>tip_pct</th>\n",
       "    </tr>\n",
       "  </thead>\n",
       "  <tbody>\n",
       "    <tr>\n",
       "      <th>count</th>\n",
       "      <td>244.000000</td>\n",
       "      <td>244.000000</td>\n",
       "      <td>244.000000</td>\n",
       "      <td>244.000000</td>\n",
       "    </tr>\n",
       "    <tr>\n",
       "      <th>mean</th>\n",
       "      <td>19.785943</td>\n",
       "      <td>2.998279</td>\n",
       "      <td>2.569672</td>\n",
       "      <td>20.212418</td>\n",
       "    </tr>\n",
       "    <tr>\n",
       "      <th>std</th>\n",
       "      <td>8.902412</td>\n",
       "      <td>1.383638</td>\n",
       "      <td>0.951100</td>\n",
       "      <td>16.338588</td>\n",
       "    </tr>\n",
       "    <tr>\n",
       "      <th>min</th>\n",
       "      <td>3.070000</td>\n",
       "      <td>1.000000</td>\n",
       "      <td>1.000000</td>\n",
       "      <td>3.700000</td>\n",
       "    </tr>\n",
       "    <tr>\n",
       "      <th>25%</th>\n",
       "      <td>13.347500</td>\n",
       "      <td>2.000000</td>\n",
       "      <td>2.000000</td>\n",
       "      <td>14.830000</td>\n",
       "    </tr>\n",
       "    <tr>\n",
       "      <th>50%</th>\n",
       "      <td>17.795000</td>\n",
       "      <td>2.900000</td>\n",
       "      <td>2.000000</td>\n",
       "      <td>18.310000</td>\n",
       "    </tr>\n",
       "    <tr>\n",
       "      <th>75%</th>\n",
       "      <td>24.127500</td>\n",
       "      <td>3.562500</td>\n",
       "      <td>3.000000</td>\n",
       "      <td>23.682500</td>\n",
       "    </tr>\n",
       "    <tr>\n",
       "      <th>max</th>\n",
       "      <td>50.810000</td>\n",
       "      <td>10.000000</td>\n",
       "      <td>6.000000</td>\n",
       "      <td>245.240000</td>\n",
       "    </tr>\n",
       "  </tbody>\n",
       "</table>\n",
       "</div>"
      ],
      "text/plain": [
       "       total_bill         tip        size     tip_pct\n",
       "count  244.000000  244.000000  244.000000  244.000000\n",
       "mean    19.785943    2.998279    2.569672   20.212418\n",
       "std      8.902412    1.383638    0.951100   16.338588\n",
       "min      3.070000    1.000000    1.000000    3.700000\n",
       "25%     13.347500    2.000000    2.000000   14.830000\n",
       "50%     17.795000    2.900000    2.000000   18.310000\n",
       "75%     24.127500    3.562500    3.000000   23.682500\n",
       "max     50.810000   10.000000    6.000000  245.240000"
      ]
     },
     "execution_count": 53,
     "metadata": {},
     "output_type": "execute_result"
    }
   ],
   "source": [
    "tips.describe()"
   ]
  },
  {
   "cell_type": "code",
   "execution_count": 54,
   "id": "c7e2abd5",
   "metadata": {},
   "outputs": [
    {
     "data": {
      "text/html": [
       "<div>\n",
       "<style scoped>\n",
       "    .dataframe tbody tr th:only-of-type {\n",
       "        vertical-align: middle;\n",
       "    }\n",
       "\n",
       "    .dataframe tbody tr th {\n",
       "        vertical-align: top;\n",
       "    }\n",
       "\n",
       "    .dataframe thead th {\n",
       "        text-align: right;\n",
       "    }\n",
       "</style>\n",
       "<table border=\"1\" class=\"dataframe\">\n",
       "  <thead>\n",
       "    <tr style=\"text-align: right;\">\n",
       "      <th></th>\n",
       "      <th>total_bill</th>\n",
       "      <th>tip</th>\n",
       "      <th>sex</th>\n",
       "      <th>smoker</th>\n",
       "      <th>day</th>\n",
       "      <th>time</th>\n",
       "      <th>size</th>\n",
       "      <th>tip_pct</th>\n",
       "    </tr>\n",
       "  </thead>\n",
       "  <tbody>\n",
       "    <tr>\n",
       "      <th>count</th>\n",
       "      <td>244.000</td>\n",
       "      <td>244.000</td>\n",
       "      <td>244</td>\n",
       "      <td>244</td>\n",
       "      <td>244</td>\n",
       "      <td>244</td>\n",
       "      <td>244.000</td>\n",
       "      <td>244.000</td>\n",
       "    </tr>\n",
       "    <tr>\n",
       "      <th>unique</th>\n",
       "      <td>NaN</td>\n",
       "      <td>NaN</td>\n",
       "      <td>2</td>\n",
       "      <td>2</td>\n",
       "      <td>4</td>\n",
       "      <td>2</td>\n",
       "      <td>NaN</td>\n",
       "      <td>NaN</td>\n",
       "    </tr>\n",
       "    <tr>\n",
       "      <th>top</th>\n",
       "      <td>NaN</td>\n",
       "      <td>NaN</td>\n",
       "      <td>Male</td>\n",
       "      <td>No</td>\n",
       "      <td>Sat</td>\n",
       "      <td>Dinner</td>\n",
       "      <td>NaN</td>\n",
       "      <td>NaN</td>\n",
       "    </tr>\n",
       "    <tr>\n",
       "      <th>freq</th>\n",
       "      <td>NaN</td>\n",
       "      <td>NaN</td>\n",
       "      <td>157</td>\n",
       "      <td>151</td>\n",
       "      <td>87</td>\n",
       "      <td>176</td>\n",
       "      <td>NaN</td>\n",
       "      <td>NaN</td>\n",
       "    </tr>\n",
       "    <tr>\n",
       "      <th>mean</th>\n",
       "      <td>19.786</td>\n",
       "      <td>2.998</td>\n",
       "      <td>NaN</td>\n",
       "      <td>NaN</td>\n",
       "      <td>NaN</td>\n",
       "      <td>NaN</td>\n",
       "      <td>2.570</td>\n",
       "      <td>20.212</td>\n",
       "    </tr>\n",
       "    <tr>\n",
       "      <th>std</th>\n",
       "      <td>8.902</td>\n",
       "      <td>1.384</td>\n",
       "      <td>NaN</td>\n",
       "      <td>NaN</td>\n",
       "      <td>NaN</td>\n",
       "      <td>NaN</td>\n",
       "      <td>0.951</td>\n",
       "      <td>16.339</td>\n",
       "    </tr>\n",
       "    <tr>\n",
       "      <th>min</th>\n",
       "      <td>3.070</td>\n",
       "      <td>1.000</td>\n",
       "      <td>NaN</td>\n",
       "      <td>NaN</td>\n",
       "      <td>NaN</td>\n",
       "      <td>NaN</td>\n",
       "      <td>1.000</td>\n",
       "      <td>3.700</td>\n",
       "    </tr>\n",
       "    <tr>\n",
       "      <th>25%</th>\n",
       "      <td>13.348</td>\n",
       "      <td>2.000</td>\n",
       "      <td>NaN</td>\n",
       "      <td>NaN</td>\n",
       "      <td>NaN</td>\n",
       "      <td>NaN</td>\n",
       "      <td>2.000</td>\n",
       "      <td>14.830</td>\n",
       "    </tr>\n",
       "    <tr>\n",
       "      <th>50%</th>\n",
       "      <td>17.795</td>\n",
       "      <td>2.900</td>\n",
       "      <td>NaN</td>\n",
       "      <td>NaN</td>\n",
       "      <td>NaN</td>\n",
       "      <td>NaN</td>\n",
       "      <td>2.000</td>\n",
       "      <td>18.310</td>\n",
       "    </tr>\n",
       "    <tr>\n",
       "      <th>75%</th>\n",
       "      <td>24.127</td>\n",
       "      <td>3.562</td>\n",
       "      <td>NaN</td>\n",
       "      <td>NaN</td>\n",
       "      <td>NaN</td>\n",
       "      <td>NaN</td>\n",
       "      <td>3.000</td>\n",
       "      <td>23.682</td>\n",
       "    </tr>\n",
       "    <tr>\n",
       "      <th>max</th>\n",
       "      <td>50.810</td>\n",
       "      <td>10.000</td>\n",
       "      <td>NaN</td>\n",
       "      <td>NaN</td>\n",
       "      <td>NaN</td>\n",
       "      <td>NaN</td>\n",
       "      <td>6.000</td>\n",
       "      <td>245.240</td>\n",
       "    </tr>\n",
       "  </tbody>\n",
       "</table>\n",
       "</div>"
      ],
      "text/plain": [
       "        total_bill      tip   sex smoker  day    time     size  tip_pct\n",
       "count      244.000  244.000   244    244  244     244  244.000  244.000\n",
       "unique         NaN      NaN     2      2    4       2      NaN      NaN\n",
       "top            NaN      NaN  Male     No  Sat  Dinner      NaN      NaN\n",
       "freq           NaN      NaN   157    151   87     176      NaN      NaN\n",
       "mean        19.786    2.998   NaN    NaN  NaN     NaN    2.570   20.212\n",
       "std          8.902    1.384   NaN    NaN  NaN     NaN    0.951   16.339\n",
       "min          3.070    1.000   NaN    NaN  NaN     NaN    1.000    3.700\n",
       "25%         13.348    2.000   NaN    NaN  NaN     NaN    2.000   14.830\n",
       "50%         17.795    2.900   NaN    NaN  NaN     NaN    2.000   18.310\n",
       "75%         24.127    3.562   NaN    NaN  NaN     NaN    3.000   23.682\n",
       "max         50.810   10.000   NaN    NaN  NaN     NaN    6.000  245.240"
      ]
     },
     "execution_count": 54,
     "metadata": {},
     "output_type": "execute_result"
    }
   ],
   "source": [
    "round(tips.describe(include='all'), 3)"
   ]
  },
  {
   "cell_type": "code",
   "execution_count": 55,
   "id": "180ed405",
   "metadata": {},
   "outputs": [
    {
     "data": {
      "text/plain": [
       "total_bill    0.0\n",
       "tip           0.0\n",
       "sex           0.0\n",
       "smoker        0.0\n",
       "day           0.0\n",
       "time          0.0\n",
       "size          0.0\n",
       "tip_pct       0.0\n",
       "dtype: float64"
      ]
     },
     "execution_count": 55,
     "metadata": {},
     "output_type": "execute_result"
    }
   ],
   "source": [
    "tips.isnull().sum()/len(tips)"
   ]
  },
  {
   "cell_type": "code",
   "execution_count": 56,
   "id": "1bbd53e3",
   "metadata": {},
   "outputs": [
    {
     "data": {
      "text/plain": [
       "count    244.000\n",
       "mean       2.998\n",
       "std        1.384\n",
       "min        1.000\n",
       "25%        2.000\n",
       "50%        2.900\n",
       "75%        3.562\n",
       "max       10.000\n",
       "Name: tip, dtype: float64"
      ]
     },
     "execution_count": 56,
     "metadata": {},
     "output_type": "execute_result"
    }
   ],
   "source": [
    "round((tips['tip']).describe(), 3)"
   ]
  },
  {
   "cell_type": "markdown",
   "id": "9630a2b4",
   "metadata": {},
   "source": [
    "#### Copia dades del exercici de mostra, aquesta linia m'ha donat error round((tips['tip']).median(), 3), ho he canviat per:"
   ]
  },
  {
   "cell_type": "code",
   "execution_count": 66,
   "id": "a1b090c0",
   "metadata": {},
   "outputs": [
    {
     "data": {
      "text/plain": [
       "2.9"
      ]
     },
     "execution_count": 66,
     "metadata": {},
     "output_type": "execute_result"
    }
   ],
   "source": [
    "(tips['tip']).median().round(3)\n",
    "#round((tips['tip']).median(), 3)"
   ]
  },
  {
   "cell_type": "markdown",
   "id": "946f9e13",
   "metadata": {},
   "source": [
    "#### Grafica de \"bigote\" resumeix la distribució de les dades mostrant-nos la posició dels seus quartils i dels valors atípics (outliers)"
   ]
  },
  {
   "cell_type": "code",
   "execution_count": 125,
   "id": "3d398b8b",
   "metadata": {},
   "outputs": [
    {
     "data": {
      "text/plain": [
       "<seaborn.axisgrid.FacetGrid at 0x1b1ca1d4bb0>"
      ]
     },
     "execution_count": 125,
     "metadata": {},
     "output_type": "execute_result"
    },
    {
     "data": {
      "image/png": "[encoded data removed]",
      "text/plain": [
       "<Figure size 360x360 with 1 Axes>"
      ]
     },
     "metadata": {
      "needs_background": "light"
     },
     "output_type": "display_data"
    }
   ],
   "source": [
    "sns.catplot(x = \"day\", y = \"tip\", data = tips, kind = \"box\",order=['Thur','Fri','Sat','Sun'], whis = 3)"
   ]
  },
  {
   "cell_type": "markdown",
   "id": "f70d6b79",
   "metadata": {},
   "source": [
    "### Grafica de \"bigote\" agrupan per la columa sex"
   ]
  },
  {
   "cell_type": "code",
   "execution_count": 6,
   "id": "9e2de104",
   "metadata": {},
   "outputs": [
    {
     "data": {
      "text/plain": [
       "<seaborn.axisgrid.FacetGrid at 0x23d83bb19d0>"
      ]
     },
     "execution_count": 6,
     "metadata": {},
     "output_type": "execute_result"
    },
    {
     "data": {
      "image/png": "[encoded data removed]",
      "text/plain": [
       "<Figure size 432.125x360 with 1 Axes>"
      ]
     },
     "metadata": {
      "needs_background": "light"
     },
     "output_type": "display_data"
    }
   ],
   "source": [
    "sns.catplot(x = \"day\", y = \"tip\", data = tips, kind = \"box\",order=['Thur','Fri','Sat','Sun'], whis = 3, hue='sex')"
   ]
  },
  {
   "cell_type": "markdown",
   "id": "2ff07fe7",
   "metadata": {},
   "source": [
    "# Una Variable: 1 Numérica = 'tip_pct'"
   ]
  },
  {
   "cell_type": "markdown",
   "id": "7c0c3a11",
   "metadata": {},
   "source": [
    "#### Una grafica ámb un valor pot ser un histograma. Un histograma agrupa els valores en x nùmero de columnes. En el cas de la columa 'sex' com que nomes te dos valors, es veu clarament"
   ]
  },
  {
   "cell_type": "code",
   "execution_count": 166,
   "id": "529cce2d",
   "metadata": {},
   "outputs": [
    {
     "data": {
      "image/png": "[encoded data removed]",
      "text/plain": [
       "<Figure size 432x288 with 1 Axes>"
      ]
     },
     "metadata": {
      "needs_background": "light"
     },
     "output_type": "display_data"
    }
   ],
   "source": [
    "bns=2\n",
    "plt.hist(tips['sex'],bns)\n",
    "plt.xticks(rotation=30, horizontalalignment=\"center\")\n",
    "plt.title(\"Histograma per Sexe\")\n",
    "plt.xlabel(\"Blocs (\" + str(bns) + \")\")\n",
    "plt.ylabel(\"Nº de persones\")\n",
    "plt.show()"
   ]
  },
  {
   "cell_type": "markdown",
   "id": "c2d2fa86",
   "metadata": {},
   "source": [
    "#### Aquí fem servir la funció skew per obtindre el nº mes aproximat de columnes que necessitem per representar les dades. En aquesta grafica hem agafat el tip_pct"
   ]
  },
  {
   "cell_type": "code",
   "execution_count": 167,
   "id": "e4ec67cc",
   "metadata": {},
   "outputs": [
    {
     "data": {
      "image/png": "[encoded data removed]",
      "text/plain": [
       "<Figure size 432x288 with 1 Axes>"
      ]
     },
     "metadata": {
      "needs_background": "light"
     },
     "output_type": "display_data"
    }
   ],
   "source": [
    "from scipy.stats import skew\n",
    "bns = round((tips['tip_pct'].skew(axis=0))+0.5)\n",
    "plt.hist(tips['tip_pct'], bins = bns)\n",
    "plt.xticks(rotation=30, horizontalalignment=\"center\")\n",
    "plt.title(\"Histograma per tip_pct\")\n",
    "plt.xlabel(\"Blocs (\" + str(bns) + \")\")\n",
    "plt.ylabel(\"Valors\")\n",
    "plt.show()"
   ]
  },
  {
   "cell_type": "markdown",
   "id": "4536696b",
   "metadata": {},
   "source": [
    "#### Aquí fem servir la funció skew per obtindre el nº mes aproximat de columnes que necessitem per representar les dades. En aquesta grafica hem agafat el size"
   ]
  },
  {
   "cell_type": "code",
   "execution_count": 168,
   "id": "85054418",
   "metadata": {},
   "outputs": [
    {
     "data": {
      "image/png": "[encoded data removed]",
      "text/plain": [
       "<Figure size 432x288 with 1 Axes>"
      ]
     },
     "metadata": {
      "needs_background": "light"
     },
     "output_type": "display_data"
    }
   ],
   "source": [
    "from scipy.stats import skew\n",
    "bns = round((tips['size'].skew(axis=0))+0.5)\n",
    "plt.hist(tips['size'], bins = bns)\n",
    "plt.xticks(rotation=30, horizontalalignment=\"center\")\n",
    "plt.title(\"Histograma per Size\")\n",
    "plt.xlabel(\"Blocs (\" + str(bns) + \")\")\n",
    "plt.ylabel(\"Valors\")\n",
    "plt.show()"
   ]
  },
  {
   "cell_type": "markdown",
   "id": "7ef2a683",
   "metadata": {},
   "source": [
    "#### Aquí fem servir la funció skew per obtindre el nº mes aproximat de columnes que necessitem per representar les dades. En aquesta grafica hem agafat el camp day"
   ]
  },
  {
   "cell_type": "code",
   "execution_count": 169,
   "id": "51e44239",
   "metadata": {},
   "outputs": [
    {
     "data": {
      "image/png": "[encoded data removed]",
      "text/plain": [
       "<Figure size 432x288 with 1 Axes>"
      ]
     },
     "metadata": {
      "needs_background": "light"
     },
     "output_type": "display_data"
    }
   ],
   "source": [
    "from scipy.stats import skew\n",
    "#bns = round((tips['day'].skew(axis=0))+0.5)\n",
    "bns=4\n",
    "plt.hist(tips['day'], bins = bns)\n",
    "plt.xticks(rotation=30, horizontalalignment=\"center\")\n",
    "plt.title(\"Histograma per dies\")\n",
    "plt.xlabel(\"Blocs (\" + str(bns) + \")\")\n",
    "plt.ylabel(\"Valors\")\n",
    "plt.show()"
   ]
  },
  {
   "cell_type": "markdown",
   "id": "ed8b1924",
   "metadata": {},
   "source": [
    "# Dos Variables: 1 Categórica = 'day', 1 Numérica = 'tip_pct'"
   ]
  },
  {
   "cell_type": "markdown",
   "id": "eb72b0c4",
   "metadata": {},
   "source": [
    "#### Mostrem el % de propines per dia de la setmana"
   ]
  },
  {
   "cell_type": "code",
   "execution_count": 177,
   "id": "911c6bb8",
   "metadata": {},
   "outputs": [
    {
     "data": {
      "image/png": "[encoded data removed]",
      "text/plain": [
       "<Figure size 432x288 with 1 Axes>"
      ]
     },
     "metadata": {
      "needs_background": "light"
     },
     "output_type": "display_data"
    }
   ],
   "source": [
    "plt.bar(tips['day'], tips['tip_pct'], 0.8)\n",
    "plt.show()"
   ]
  },
  {
   "cell_type": "markdown",
   "id": "efbdb1e7",
   "metadata": {},
   "source": [
    "#### Mostrem el total de ventes per dia de la setmana"
   ]
  },
  {
   "cell_type": "code",
   "execution_count": 178,
   "id": "ce923952",
   "metadata": {},
   "outputs": [
    {
     "data": {
      "image/png": "[encoded data removed]",
      "text/plain": [
       "<Figure size 432x288 with 1 Axes>"
      ]
     },
     "metadata": {
      "needs_background": "light"
     },
     "output_type": "display_data"
    }
   ],
   "source": [
    "plt.bar(tips['day'], tips['total_bill'], 0.8)\n",
    "plt.show()\n",
    "#bb.groupby(['day']).agg({'total_bill':np.average})"
   ]
  },
  {
   "cell_type": "markdown",
   "id": "949fd999",
   "metadata": {},
   "source": [
    "#### Generem dos grafiques separades per la columna smoker"
   ]
  },
  {
   "cell_type": "code",
   "execution_count": 9,
   "id": "3317a2a7",
   "metadata": {},
   "outputs": [
    {
     "data": {
      "image/png": "[encoded data removed]",
      "text/plain": [
       "<Figure size 789.625x360 with 2 Axes>"
      ]
     },
     "metadata": {
      "needs_background": "light"
     },
     "output_type": "display_data"
    }
   ],
   "source": [
    "sns.catplot(x='day', y='tip_pct', hue='time', col='smoker',\n",
    "               kind='box', data=tips[tips.tip_pct < 245]);"
   ]
  },
  {
   "cell_type": "markdown",
   "id": "7b50d254",
   "metadata": {},
   "source": [
    "## Exercici 2"
   ]
  },
  {
   "cell_type": "markdown",
   "id": "59f81cf0",
   "metadata": {},
   "source": [
    "#### Repeteix l'exercici 1 amb el dataset que disposem en el repositori de GitHub PRE-PROCESSING-DATA, movies.dat"
   ]
  },
  {
   "cell_type": "markdown",
   "id": "82281e9b",
   "metadata": {},
   "source": [
    "#### Importem el fitxer de movies i mostrem el primers per veure el contingut"
   ]
  },
  {
   "cell_type": "code",
   "execution_count": 12,
   "id": "ffc1aff6",
   "metadata": {},
   "outputs": [
    {
     "data": {
      "text/html": [
       "<div>\n",
       "<style scoped>\n",
       "    .dataframe tbody tr th:only-of-type {\n",
       "        vertical-align: middle;\n",
       "    }\n",
       "\n",
       "    .dataframe tbody tr th {\n",
       "        vertical-align: top;\n",
       "    }\n",
       "\n",
       "    .dataframe thead th {\n",
       "        text-align: right;\n",
       "    }\n",
       "</style>\n",
       "<table border=\"1\" class=\"dataframe\">\n",
       "  <thead>\n",
       "    <tr style=\"text-align: right;\">\n",
       "      <th></th>\n",
       "      <th>0</th>\n",
       "      <th>1</th>\n",
       "      <th>2</th>\n",
       "    </tr>\n",
       "  </thead>\n",
       "  <tbody>\n",
       "    <tr>\n",
       "      <th>0</th>\n",
       "      <td>1</td>\n",
       "      <td>Toy Story (1995)</td>\n",
       "      <td>Animation|Children's|Comedy</td>\n",
       "    </tr>\n",
       "    <tr>\n",
       "      <th>1</th>\n",
       "      <td>2</td>\n",
       "      <td>Jumanji (1995)</td>\n",
       "      <td>Adventure|Children's|Fantasy</td>\n",
       "    </tr>\n",
       "    <tr>\n",
       "      <th>2</th>\n",
       "      <td>3</td>\n",
       "      <td>Grumpier Old Men (1995)</td>\n",
       "      <td>Comedy|Romance</td>\n",
       "    </tr>\n",
       "    <tr>\n",
       "      <th>3</th>\n",
       "      <td>4</td>\n",
       "      <td>Waiting to Exhale (1995)</td>\n",
       "      <td>Comedy|Drama</td>\n",
       "    </tr>\n",
       "    <tr>\n",
       "      <th>4</th>\n",
       "      <td>5</td>\n",
       "      <td>Father of the Bride Part II (1995)</td>\n",
       "      <td>Comedy</td>\n",
       "    </tr>\n",
       "  </tbody>\n",
       "</table>\n",
       "</div>"
      ],
      "text/plain": [
       "   0                                   1                             2\n",
       "0  1                    Toy Story (1995)   Animation|Children's|Comedy\n",
       "1  2                      Jumanji (1995)  Adventure|Children's|Fantasy\n",
       "2  3             Grumpier Old Men (1995)                Comedy|Romance\n",
       "3  4            Waiting to Exhale (1995)                  Comedy|Drama\n",
       "4  5  Father of the Bride Part II (1995)                        Comedy"
      ]
     },
     "execution_count": 12,
     "metadata": {},
     "output_type": "execute_result"
    }
   ],
   "source": [
    "mov=pd.read_csv('S03T02\\\\movies.dat', sep=\"::\", header=None)\n",
    "mov.head()"
   ]
  },
  {
   "cell_type": "markdown",
   "id": "e2ff247b",
   "metadata": {},
   "source": [
    "#### Donem noms a les columnes "
   ]
  },
  {
   "cell_type": "code",
   "execution_count": 20,
   "id": "4cfe4c29",
   "metadata": {},
   "outputs": [
    {
     "data": {
      "text/html": [
       "<div>\n",
       "<style scoped>\n",
       "    .dataframe tbody tr th:only-of-type {\n",
       "        vertical-align: middle;\n",
       "    }\n",
       "\n",
       "    .dataframe tbody tr th {\n",
       "        vertical-align: top;\n",
       "    }\n",
       "\n",
       "    .dataframe thead th {\n",
       "        text-align: right;\n",
       "    }\n",
       "</style>\n",
       "<table border=\"1\" class=\"dataframe\">\n",
       "  <thead>\n",
       "    <tr style=\"text-align: right;\">\n",
       "      <th></th>\n",
       "      <th>id</th>\n",
       "      <th>Pelicula</th>\n",
       "      <th>Genere</th>\n",
       "    </tr>\n",
       "  </thead>\n",
       "  <tbody>\n",
       "    <tr>\n",
       "      <th>0</th>\n",
       "      <td>1</td>\n",
       "      <td>Toy Story (1995)</td>\n",
       "      <td>Animation|Children's|Comedy</td>\n",
       "    </tr>\n",
       "    <tr>\n",
       "      <th>1</th>\n",
       "      <td>2</td>\n",
       "      <td>Jumanji (1995)</td>\n",
       "      <td>Adventure|Children's|Fantasy</td>\n",
       "    </tr>\n",
       "    <tr>\n",
       "      <th>2</th>\n",
       "      <td>3</td>\n",
       "      <td>Grumpier Old Men (1995)</td>\n",
       "      <td>Comedy|Romance</td>\n",
       "    </tr>\n",
       "    <tr>\n",
       "      <th>3</th>\n",
       "      <td>4</td>\n",
       "      <td>Waiting to Exhale (1995)</td>\n",
       "      <td>Comedy|Drama</td>\n",
       "    </tr>\n",
       "    <tr>\n",
       "      <th>4</th>\n",
       "      <td>5</td>\n",
       "      <td>Father of the Bride Part II (1995)</td>\n",
       "      <td>Comedy</td>\n",
       "    </tr>\n",
       "  </tbody>\n",
       "</table>\n",
       "</div>"
      ],
      "text/plain": [
       "   id                            Pelicula                        Genere\n",
       "0   1                    Toy Story (1995)   Animation|Children's|Comedy\n",
       "1   2                      Jumanji (1995)  Adventure|Children's|Fantasy\n",
       "2   3             Grumpier Old Men (1995)                Comedy|Romance\n",
       "3   4            Waiting to Exhale (1995)                  Comedy|Drama\n",
       "4   5  Father of the Bride Part II (1995)                        Comedy"
      ]
     },
     "execution_count": 20,
     "metadata": {},
     "output_type": "execute_result"
    }
   ],
   "source": [
    "mov=mov.rename(columns={mov.columns[0]: 'id',mov.columns[1]: 'Pelicula',mov.columns[2]: 'Genere'})\n",
    "mov.head()"
   ]
  },
  {
   "cell_type": "markdown",
   "id": "596229b6",
   "metadata": {},
   "source": [
    "#### Extreiem l'any de la columna pelicula"
   ]
  },
  {
   "cell_type": "code",
   "execution_count": 33,
   "id": "b86c640e",
   "metadata": {},
   "outputs": [
    {
     "data": {
      "text/html": [
       "<div>\n",
       "<style scoped>\n",
       "    .dataframe tbody tr th:only-of-type {\n",
       "        vertical-align: middle;\n",
       "    }\n",
       "\n",
       "    .dataframe tbody tr th {\n",
       "        vertical-align: top;\n",
       "    }\n",
       "\n",
       "    .dataframe thead th {\n",
       "        text-align: right;\n",
       "    }\n",
       "</style>\n",
       "<table border=\"1\" class=\"dataframe\">\n",
       "  <thead>\n",
       "    <tr style=\"text-align: right;\">\n",
       "      <th></th>\n",
       "      <th>id</th>\n",
       "      <th>Pelicula</th>\n",
       "      <th>Genere</th>\n",
       "      <th>Any</th>\n",
       "    </tr>\n",
       "  </thead>\n",
       "  <tbody>\n",
       "    <tr>\n",
       "      <th>0</th>\n",
       "      <td>1</td>\n",
       "      <td>Toy Story (1995)</td>\n",
       "      <td>Animation|Children's|Comedy</td>\n",
       "      <td>(1995)</td>\n",
       "    </tr>\n",
       "    <tr>\n",
       "      <th>1</th>\n",
       "      <td>2</td>\n",
       "      <td>Jumanji (1995)</td>\n",
       "      <td>Adventure|Children's|Fantasy</td>\n",
       "      <td>(1995)</td>\n",
       "    </tr>\n",
       "    <tr>\n",
       "      <th>2</th>\n",
       "      <td>3</td>\n",
       "      <td>Grumpier Old Men (1995)</td>\n",
       "      <td>Comedy|Romance</td>\n",
       "      <td>(1995)</td>\n",
       "    </tr>\n",
       "    <tr>\n",
       "      <th>3</th>\n",
       "      <td>4</td>\n",
       "      <td>Waiting to Exhale (1995)</td>\n",
       "      <td>Comedy|Drama</td>\n",
       "      <td>(1995)</td>\n",
       "    </tr>\n",
       "    <tr>\n",
       "      <th>4</th>\n",
       "      <td>5</td>\n",
       "      <td>Father of the Bride Part II (1995)</td>\n",
       "      <td>Comedy</td>\n",
       "      <td>(1995)</td>\n",
       "    </tr>\n",
       "  </tbody>\n",
       "</table>\n",
       "</div>"
      ],
      "text/plain": [
       "   id                            Pelicula                        Genere  \\\n",
       "0   1                    Toy Story (1995)   Animation|Children's|Comedy   \n",
       "1   2                      Jumanji (1995)  Adventure|Children's|Fantasy   \n",
       "2   3             Grumpier Old Men (1995)                Comedy|Romance   \n",
       "3   4            Waiting to Exhale (1995)                  Comedy|Drama   \n",
       "4   5  Father of the Bride Part II (1995)                        Comedy   \n",
       "\n",
       "       Any  \n",
       "0   (1995)  \n",
       "1   (1995)  \n",
       "2   (1995)  \n",
       "3   (1995)  \n",
       "4   (1995)  "
      ]
     },
     "execution_count": 33,
     "metadata": {},
     "output_type": "execute_result"
    }
   ],
   "source": [
    "mov['Any'] = mov['Pelicula'].str[-7:]\n",
    "mov.head()"
   ]
  },
  {
   "cell_type": "markdown",
   "id": "28f3ff49",
   "metadata": {},
   "source": [
    "#### Eliminem l'any de la columna pelicula"
   ]
  },
  {
   "cell_type": "code",
   "execution_count": 35,
   "id": "5c970144",
   "metadata": {},
   "outputs": [
    {
     "data": {
      "text/html": [
       "<div>\n",
       "<style scoped>\n",
       "    .dataframe tbody tr th:only-of-type {\n",
       "        vertical-align: middle;\n",
       "    }\n",
       "\n",
       "    .dataframe tbody tr th {\n",
       "        vertical-align: top;\n",
       "    }\n",
       "\n",
       "    .dataframe thead th {\n",
       "        text-align: right;\n",
       "    }\n",
       "</style>\n",
       "<table border=\"1\" class=\"dataframe\">\n",
       "  <thead>\n",
       "    <tr style=\"text-align: right;\">\n",
       "      <th></th>\n",
       "      <th>id</th>\n",
       "      <th>Pelicula</th>\n",
       "      <th>Genere</th>\n",
       "      <th>Any</th>\n",
       "    </tr>\n",
       "  </thead>\n",
       "  <tbody>\n",
       "    <tr>\n",
       "      <th>0</th>\n",
       "      <td>1</td>\n",
       "      <td>Toy Story</td>\n",
       "      <td>Animation|Children's|Comedy</td>\n",
       "      <td>(1995)</td>\n",
       "    </tr>\n",
       "    <tr>\n",
       "      <th>1</th>\n",
       "      <td>2</td>\n",
       "      <td>Jumanji</td>\n",
       "      <td>Adventure|Children's|Fantasy</td>\n",
       "      <td>(1995)</td>\n",
       "    </tr>\n",
       "    <tr>\n",
       "      <th>2</th>\n",
       "      <td>3</td>\n",
       "      <td>Grumpier Old Men</td>\n",
       "      <td>Comedy|Romance</td>\n",
       "      <td>(1995)</td>\n",
       "    </tr>\n",
       "    <tr>\n",
       "      <th>3</th>\n",
       "      <td>4</td>\n",
       "      <td>Waiting to Exhale</td>\n",
       "      <td>Comedy|Drama</td>\n",
       "      <td>(1995)</td>\n",
       "    </tr>\n",
       "    <tr>\n",
       "      <th>4</th>\n",
       "      <td>5</td>\n",
       "      <td>Father of the Bride Part II</td>\n",
       "      <td>Comedy</td>\n",
       "      <td>(1995)</td>\n",
       "    </tr>\n",
       "  </tbody>\n",
       "</table>\n",
       "</div>"
      ],
      "text/plain": [
       "   id                     Pelicula                        Genere      Any\n",
       "0   1                    Toy Story   Animation|Children's|Comedy   (1995)\n",
       "1   2                      Jumanji  Adventure|Children's|Fantasy   (1995)\n",
       "2   3             Grumpier Old Men                Comedy|Romance   (1995)\n",
       "3   4            Waiting to Exhale                  Comedy|Drama   (1995)\n",
       "4   5  Father of the Bride Part II                        Comedy   (1995)"
      ]
     },
     "execution_count": 35,
     "metadata": {},
     "output_type": "execute_result"
    }
   ],
   "source": [
    "mov['Pelicula'] = mov['Pelicula'].str[:-7]\n",
    "mov.head()"
   ]
  },
  {
   "cell_type": "markdown",
   "id": "5504a1fa",
   "metadata": {},
   "source": [
    "#### Eliminem els parentesis de la columna any"
   ]
  },
  {
   "cell_type": "code",
   "execution_count": 49,
   "id": "fe6b7dff",
   "metadata": {},
   "outputs": [
    {
     "data": {
      "text/html": [
       "<div>\n",
       "<style scoped>\n",
       "    .dataframe tbody tr th:only-of-type {\n",
       "        vertical-align: middle;\n",
       "    }\n",
       "\n",
       "    .dataframe tbody tr th {\n",
       "        vertical-align: top;\n",
       "    }\n",
       "\n",
       "    .dataframe thead th {\n",
       "        text-align: right;\n",
       "    }\n",
       "</style>\n",
       "<table border=\"1\" class=\"dataframe\">\n",
       "  <thead>\n",
       "    <tr style=\"text-align: right;\">\n",
       "      <th></th>\n",
       "      <th>id</th>\n",
       "      <th>Pelicula</th>\n",
       "      <th>Genere</th>\n",
       "      <th>Any</th>\n",
       "    </tr>\n",
       "  </thead>\n",
       "  <tbody>\n",
       "    <tr>\n",
       "      <th>0</th>\n",
       "      <td>1</td>\n",
       "      <td>Toy Story</td>\n",
       "      <td>Animation|Children's|Comedy</td>\n",
       "      <td>1995</td>\n",
       "    </tr>\n",
       "    <tr>\n",
       "      <th>1</th>\n",
       "      <td>2</td>\n",
       "      <td>Jumanji</td>\n",
       "      <td>Adventure|Children's|Fantasy</td>\n",
       "      <td>1995</td>\n",
       "    </tr>\n",
       "    <tr>\n",
       "      <th>2</th>\n",
       "      <td>3</td>\n",
       "      <td>Grumpier Old Men</td>\n",
       "      <td>Comedy|Romance</td>\n",
       "      <td>1995</td>\n",
       "    </tr>\n",
       "    <tr>\n",
       "      <th>3</th>\n",
       "      <td>4</td>\n",
       "      <td>Waiting to Exhale</td>\n",
       "      <td>Comedy|Drama</td>\n",
       "      <td>1995</td>\n",
       "    </tr>\n",
       "    <tr>\n",
       "      <th>4</th>\n",
       "      <td>5</td>\n",
       "      <td>Father of the Bride Part II</td>\n",
       "      <td>Comedy</td>\n",
       "      <td>1995</td>\n",
       "    </tr>\n",
       "  </tbody>\n",
       "</table>\n",
       "</div>"
      ],
      "text/plain": [
       "   id                     Pelicula                        Genere    Any\n",
       "0   1                    Toy Story   Animation|Children's|Comedy   1995\n",
       "1   2                      Jumanji  Adventure|Children's|Fantasy   1995\n",
       "2   3             Grumpier Old Men                Comedy|Romance   1995\n",
       "3   4            Waiting to Exhale                  Comedy|Drama   1995\n",
       "4   5  Father of the Bride Part II                        Comedy   1995"
      ]
     },
     "execution_count": 49,
     "metadata": {},
     "output_type": "execute_result"
    }
   ],
   "source": [
    "mov['Any'] = mov['Any'].str.replace('(','', regex=True).str.replace(')','', regex=True)\n",
    "mov.head()\n"
   ]
  },
  {
   "cell_type": "markdown",
   "id": "0b411963",
   "metadata": {},
   "source": [
    "#### Separem cada genere de la columna genere"
   ]
  },
  {
   "cell_type": "code",
   "execution_count": 58,
   "id": "17f4f6af",
   "metadata": {},
   "outputs": [
    {
     "data": {
      "text/html": [
       "<div>\n",
       "<style scoped>\n",
       "    .dataframe tbody tr th:only-of-type {\n",
       "        vertical-align: middle;\n",
       "    }\n",
       "\n",
       "    .dataframe tbody tr th {\n",
       "        vertical-align: top;\n",
       "    }\n",
       "\n",
       "    .dataframe thead th {\n",
       "        text-align: right;\n",
       "    }\n",
       "</style>\n",
       "<table border=\"1\" class=\"dataframe\">\n",
       "  <thead>\n",
       "    <tr style=\"text-align: right;\">\n",
       "      <th></th>\n",
       "      <th>id</th>\n",
       "      <th>Pelicula</th>\n",
       "      <th>Genere</th>\n",
       "      <th>Any</th>\n",
       "      <th>G1</th>\n",
       "      <th>G2</th>\n",
       "      <th>G3</th>\n",
       "      <th>G4</th>\n",
       "      <th>G5</th>\n",
       "      <th>G6</th>\n",
       "    </tr>\n",
       "  </thead>\n",
       "  <tbody>\n",
       "    <tr>\n",
       "      <th>0</th>\n",
       "      <td>1</td>\n",
       "      <td>Toy Story</td>\n",
       "      <td>Animation|Children's|Comedy</td>\n",
       "      <td>1995</td>\n",
       "      <td>Animation</td>\n",
       "      <td>Children's</td>\n",
       "      <td>Comedy</td>\n",
       "      <td>None</td>\n",
       "      <td>None</td>\n",
       "      <td>None</td>\n",
       "    </tr>\n",
       "    <tr>\n",
       "      <th>1</th>\n",
       "      <td>2</td>\n",
       "      <td>Jumanji</td>\n",
       "      <td>Adventure|Children's|Fantasy</td>\n",
       "      <td>1995</td>\n",
       "      <td>Adventure</td>\n",
       "      <td>Children's</td>\n",
       "      <td>Fantasy</td>\n",
       "      <td>None</td>\n",
       "      <td>None</td>\n",
       "      <td>None</td>\n",
       "    </tr>\n",
       "    <tr>\n",
       "      <th>2</th>\n",
       "      <td>3</td>\n",
       "      <td>Grumpier Old Men</td>\n",
       "      <td>Comedy|Romance</td>\n",
       "      <td>1995</td>\n",
       "      <td>Comedy</td>\n",
       "      <td>Romance</td>\n",
       "      <td>None</td>\n",
       "      <td>None</td>\n",
       "      <td>None</td>\n",
       "      <td>None</td>\n",
       "    </tr>\n",
       "    <tr>\n",
       "      <th>3</th>\n",
       "      <td>4</td>\n",
       "      <td>Waiting to Exhale</td>\n",
       "      <td>Comedy|Drama</td>\n",
       "      <td>1995</td>\n",
       "      <td>Comedy</td>\n",
       "      <td>Drama</td>\n",
       "      <td>None</td>\n",
       "      <td>None</td>\n",
       "      <td>None</td>\n",
       "      <td>None</td>\n",
       "    </tr>\n",
       "    <tr>\n",
       "      <th>4</th>\n",
       "      <td>5</td>\n",
       "      <td>Father of the Bride Part II</td>\n",
       "      <td>Comedy</td>\n",
       "      <td>1995</td>\n",
       "      <td>Comedy</td>\n",
       "      <td>None</td>\n",
       "      <td>None</td>\n",
       "      <td>None</td>\n",
       "      <td>None</td>\n",
       "      <td>None</td>\n",
       "    </tr>\n",
       "  </tbody>\n",
       "</table>\n",
       "</div>"
      ],
      "text/plain": [
       "   id                     Pelicula                        Genere    Any  \\\n",
       "0   1                    Toy Story   Animation|Children's|Comedy   1995   \n",
       "1   2                      Jumanji  Adventure|Children's|Fantasy   1995   \n",
       "2   3             Grumpier Old Men                Comedy|Romance   1995   \n",
       "3   4            Waiting to Exhale                  Comedy|Drama   1995   \n",
       "4   5  Father of the Bride Part II                        Comedy   1995   \n",
       "\n",
       "          G1          G2       G3    G4    G5    G6  \n",
       "0  Animation  Children's   Comedy  None  None  None  \n",
       "1  Adventure  Children's  Fantasy  None  None  None  \n",
       "2     Comedy     Romance     None  None  None  None  \n",
       "3     Comedy       Drama     None  None  None  None  \n",
       "4     Comedy        None     None  None  None  None  "
      ]
     },
     "execution_count": 58,
     "metadata": {},
     "output_type": "execute_result"
    }
   ],
   "source": [
    "mov[['G1','G2','G3','G4','G5','G6']] = mov['Genere'].str.split('|',expand=True)\n",
    "mov.head()\n",
    "\n"
   ]
  },
  {
   "cell_type": "markdown",
   "id": "4215e24e",
   "metadata": {},
   "source": [
    "#### Canviem el tipus de dade de la columna Any, la passen a tipus Int"
   ]
  },
  {
   "cell_type": "code",
   "execution_count": 73,
   "id": "ca226084",
   "metadata": {},
   "outputs": [
    {
     "data": {
      "text/plain": [
       "id           int64\n",
       "Pelicula    object\n",
       "Any          int32\n",
       "G1          object\n",
       "G2          object\n",
       "G3          object\n",
       "G4          object\n",
       "G5          object\n",
       "G6          object\n",
       "dtype: object"
      ]
     },
     "execution_count": 73,
     "metadata": {},
     "output_type": "execute_result"
    }
   ],
   "source": [
    "mov['Any']=mov['Any'].astype(str).astype(int)\n",
    "mov.dtypes"
   ]
  },
  {
   "cell_type": "markdown",
   "id": "2990d4fb",
   "metadata": {},
   "source": [
    "#### Fem una columna nova (Lus) que ens indicarà la decada de la pelicula"
   ]
  },
  {
   "cell_type": "code",
   "execution_count": 88,
   "id": "8c678001",
   "metadata": {},
   "outputs": [
    {
     "data": {
      "text/html": [
       "<div>\n",
       "<style scoped>\n",
       "    .dataframe tbody tr th:only-of-type {\n",
       "        vertical-align: middle;\n",
       "    }\n",
       "\n",
       "    .dataframe tbody tr th {\n",
       "        vertical-align: top;\n",
       "    }\n",
       "\n",
       "    .dataframe thead th {\n",
       "        text-align: right;\n",
       "    }\n",
       "</style>\n",
       "<table border=\"1\" class=\"dataframe\">\n",
       "  <thead>\n",
       "    <tr style=\"text-align: right;\">\n",
       "      <th></th>\n",
       "      <th>id</th>\n",
       "      <th>Pelicula</th>\n",
       "      <th>Any</th>\n",
       "      <th>G1</th>\n",
       "      <th>G2</th>\n",
       "      <th>G3</th>\n",
       "      <th>G4</th>\n",
       "      <th>G5</th>\n",
       "      <th>G6</th>\n",
       "      <th>Lus</th>\n",
       "    </tr>\n",
       "  </thead>\n",
       "  <tbody>\n",
       "    <tr>\n",
       "      <th>0</th>\n",
       "      <td>1</td>\n",
       "      <td>Toy Story</td>\n",
       "      <td>1995</td>\n",
       "      <td>Animation</td>\n",
       "      <td>Children's</td>\n",
       "      <td>Comedy</td>\n",
       "      <td>None</td>\n",
       "      <td>None</td>\n",
       "      <td>None</td>\n",
       "      <td>1990.0</td>\n",
       "    </tr>\n",
       "    <tr>\n",
       "      <th>1</th>\n",
       "      <td>2</td>\n",
       "      <td>Jumanji</td>\n",
       "      <td>1995</td>\n",
       "      <td>Adventure</td>\n",
       "      <td>Children's</td>\n",
       "      <td>Fantasy</td>\n",
       "      <td>None</td>\n",
       "      <td>None</td>\n",
       "      <td>None</td>\n",
       "      <td>1990.0</td>\n",
       "    </tr>\n",
       "    <tr>\n",
       "      <th>2</th>\n",
       "      <td>3</td>\n",
       "      <td>Grumpier Old Men</td>\n",
       "      <td>1995</td>\n",
       "      <td>Comedy</td>\n",
       "      <td>Romance</td>\n",
       "      <td>None</td>\n",
       "      <td>None</td>\n",
       "      <td>None</td>\n",
       "      <td>None</td>\n",
       "      <td>1990.0</td>\n",
       "    </tr>\n",
       "    <tr>\n",
       "      <th>3</th>\n",
       "      <td>4</td>\n",
       "      <td>Waiting to Exhale</td>\n",
       "      <td>1995</td>\n",
       "      <td>Comedy</td>\n",
       "      <td>Drama</td>\n",
       "      <td>None</td>\n",
       "      <td>None</td>\n",
       "      <td>None</td>\n",
       "      <td>None</td>\n",
       "      <td>1990.0</td>\n",
       "    </tr>\n",
       "    <tr>\n",
       "      <th>4</th>\n",
       "      <td>5</td>\n",
       "      <td>Father of the Bride Part II</td>\n",
       "      <td>1995</td>\n",
       "      <td>Comedy</td>\n",
       "      <td>None</td>\n",
       "      <td>None</td>\n",
       "      <td>None</td>\n",
       "      <td>None</td>\n",
       "      <td>None</td>\n",
       "      <td>1990.0</td>\n",
       "    </tr>\n",
       "  </tbody>\n",
       "</table>\n",
       "</div>"
      ],
      "text/plain": [
       "   id                     Pelicula   Any         G1          G2       G3  \\\n",
       "0   1                    Toy Story  1995  Animation  Children's   Comedy   \n",
       "1   2                      Jumanji  1995  Adventure  Children's  Fantasy   \n",
       "2   3             Grumpier Old Men  1995     Comedy     Romance     None   \n",
       "3   4            Waiting to Exhale  1995     Comedy       Drama     None   \n",
       "4   5  Father of the Bride Part II  1995     Comedy        None     None   \n",
       "\n",
       "     G4    G5    G6     Lus  \n",
       "0  None  None  None  1990.0  \n",
       "1  None  None  None  1990.0  \n",
       "2  None  None  None  1990.0  \n",
       "3  None  None  None  1990.0  \n",
       "4  None  None  None  1990.0  "
      ]
     },
     "execution_count": 88,
     "metadata": {},
     "output_type": "execute_result"
    }
   ],
   "source": [
    "mov['Lus']=(mov['Any']/10).apply(np.floor)*10\n",
    "mov.head()"
   ]
  },
  {
   "cell_type": "markdown",
   "id": "7cf64cdb",
   "metadata": {},
   "source": [
    "#### Fem la gràfica de les pelicules per any"
   ]
  },
  {
   "cell_type": "code",
   "execution_count": 94,
   "id": "9dd48fd2",
   "metadata": {},
   "outputs": [
    {
     "data": {
      "text/plain": [
       "Text(0, 0.5, 'Nº Pelicules')"
      ]
     },
     "execution_count": 94,
     "metadata": {},
     "output_type": "execute_result"
    },
    {
     "data": {
      "image/png": "[encoded data removed]",
      "text/plain": [
       "<Figure size 1008x576 with 1 Axes>"
      ]
     },
     "metadata": {
      "needs_background": "light"
     },
     "output_type": "display_data"
    }
   ],
   "source": [
    "ax = mov['Any'].value_counts().plot(kind='bar',figsize=(14,8),title=\"Pelicules per any\")\n",
    "ax.set_xlabel(\"Any\")\n",
    "ax.set_ylabel(\"Nº Pelicules\")"
   ]
  },
  {
   "cell_type": "markdown",
   "id": "32e7a0b8",
   "metadata": {},
   "source": [
    "#### Fem la gràfica de pelicules per dècada"
   ]
  },
  {
   "cell_type": "code",
   "execution_count": 89,
   "id": "8f057e0a",
   "metadata": {},
   "outputs": [
    {
     "data": {
      "text/plain": [
       "Text(0, 0.5, 'Frequency')"
      ]
     },
     "execution_count": 89,
     "metadata": {},
     "output_type": "execute_result"
    },
    {
     "data": {
      "image/png": "[encoded data removed]",
      "text/plain": [
       "<Figure size 1008x576 with 1 Axes>"
      ]
     },
     "metadata": {
      "needs_background": "light"
     },
     "output_type": "display_data"
    }
   ],
   "source": [
    "ax = mov['Lus'].value_counts().plot(kind='bar',figsize=(14,8),title=\"Pelicules per decada\")\n",
    "ax.set_xlabel(\"Decada\")\n",
    "ax.set_ylabel(\"Nº Pelicules\")"
   ]
  },
  {
   "cell_type": "markdown",
   "id": "cb70d6e8",
   "metadata": {},
   "source": [
    "#### Apunts meus"
   ]
  },
  {
   "cell_type": "code",
   "execution_count": 120,
   "id": "ba61d630",
   "metadata": {},
   "outputs": [
    {
     "name": "stdout",
     "output_type": "stream",
     "text": [
      "         Genero\n",
      "0       Western\n",
      "1        Sci-Fi\n",
      "2        Horror\n",
      "3     Adventure\n",
      "4        Action\n",
      "5         Crime\n",
      "6     Animation\n",
      "7       Musical\n",
      "8    Children's\n",
      "9        Comedy\n",
      "10          War\n",
      "11      Romance\n",
      "12  Documentary\n",
      "13      Mystery\n",
      "14    Film-Noir\n",
      "15      Fantasy\n",
      "16        Drama\n",
      "17     Thriller\n"
     ]
    }
   ],
   "source": [
    "rr=set(mov['G1']).union(set(mov['G2'])).union(set(mov['G3'])).union(set(mov['G4'])).union(set(mov['G5'])).union(set(mov['G6']))\n",
    "rr.remove(None)\n",
    "gen=pd.DataFrame(rr,columns=['Genero'])\n"
   ]
  },
  {
   "cell_type": "markdown",
   "id": "09c960c4",
   "metadata": {},
   "source": [
    "#### Apunts meus"
   ]
  },
  {
   "cell_type": "code",
   "execution_count": 123,
   "id": "1de9291a",
   "metadata": {},
   "outputs": [
    {
     "data": {
      "text/html": [
       "<div>\n",
       "<style scoped>\n",
       "    .dataframe tbody tr th:only-of-type {\n",
       "        vertical-align: middle;\n",
       "    }\n",
       "\n",
       "    .dataframe tbody tr th {\n",
       "        vertical-align: top;\n",
       "    }\n",
       "\n",
       "    .dataframe thead th {\n",
       "        text-align: right;\n",
       "    }\n",
       "</style>\n",
       "<table border=\"1\" class=\"dataframe\">\n",
       "  <thead>\n",
       "    <tr style=\"text-align: right;\">\n",
       "      <th></th>\n",
       "      <th>Genero</th>\n",
       "      <th>id</th>\n",
       "      <th>Pelicula</th>\n",
       "      <th>Any</th>\n",
       "      <th>G1</th>\n",
       "      <th>G2</th>\n",
       "      <th>G3</th>\n",
       "      <th>G4</th>\n",
       "      <th>G5</th>\n",
       "      <th>G6</th>\n",
       "      <th>Lus</th>\n",
       "    </tr>\n",
       "  </thead>\n",
       "  <tbody>\n",
       "    <tr>\n",
       "      <th>0</th>\n",
       "      <td>Western</td>\n",
       "      <td>210</td>\n",
       "      <td>Wild Bill</td>\n",
       "      <td>1995</td>\n",
       "      <td>Western</td>\n",
       "      <td>None</td>\n",
       "      <td>None</td>\n",
       "      <td>None</td>\n",
       "      <td>None</td>\n",
       "      <td>None</td>\n",
       "      <td>1990.0</td>\n",
       "    </tr>\n",
       "    <tr>\n",
       "      <th>1</th>\n",
       "      <td>Western</td>\n",
       "      <td>383</td>\n",
       "      <td>Wyatt Earp</td>\n",
       "      <td>1994</td>\n",
       "      <td>Western</td>\n",
       "      <td>None</td>\n",
       "      <td>None</td>\n",
       "      <td>None</td>\n",
       "      <td>None</td>\n",
       "      <td>None</td>\n",
       "      <td>1990.0</td>\n",
       "    </tr>\n",
       "    <tr>\n",
       "      <th>2</th>\n",
       "      <td>Western</td>\n",
       "      <td>416</td>\n",
       "      <td>Bad Girls</td>\n",
       "      <td>1994</td>\n",
       "      <td>Western</td>\n",
       "      <td>None</td>\n",
       "      <td>None</td>\n",
       "      <td>None</td>\n",
       "      <td>None</td>\n",
       "      <td>None</td>\n",
       "      <td>1990.0</td>\n",
       "    </tr>\n",
       "    <tr>\n",
       "      <th>3</th>\n",
       "      <td>Western</td>\n",
       "      <td>553</td>\n",
       "      <td>Tombstone</td>\n",
       "      <td>1993</td>\n",
       "      <td>Western</td>\n",
       "      <td>None</td>\n",
       "      <td>None</td>\n",
       "      <td>None</td>\n",
       "      <td>None</td>\n",
       "      <td>None</td>\n",
       "      <td>1990.0</td>\n",
       "    </tr>\n",
       "    <tr>\n",
       "      <th>4</th>\n",
       "      <td>Western</td>\n",
       "      <td>599</td>\n",
       "      <td>Wild Bunch, The</td>\n",
       "      <td>1969</td>\n",
       "      <td>Western</td>\n",
       "      <td>None</td>\n",
       "      <td>None</td>\n",
       "      <td>None</td>\n",
       "      <td>None</td>\n",
       "      <td>None</td>\n",
       "      <td>1960.0</td>\n",
       "    </tr>\n",
       "    <tr>\n",
       "      <th>...</th>\n",
       "      <td>...</td>\n",
       "      <td>...</td>\n",
       "      <td>...</td>\n",
       "      <td>...</td>\n",
       "      <td>...</td>\n",
       "      <td>...</td>\n",
       "      <td>...</td>\n",
       "      <td>...</td>\n",
       "      <td>...</td>\n",
       "      <td>...</td>\n",
       "      <td>...</td>\n",
       "    </tr>\n",
       "    <tr>\n",
       "      <th>3878</th>\n",
       "      <td>Thriller</td>\n",
       "      <td>3798</td>\n",
       "      <td>What Lies Beneath</td>\n",
       "      <td>2000</td>\n",
       "      <td>Thriller</td>\n",
       "      <td>None</td>\n",
       "      <td>None</td>\n",
       "      <td>None</td>\n",
       "      <td>None</td>\n",
       "      <td>None</td>\n",
       "      <td>2000.0</td>\n",
       "    </tr>\n",
       "    <tr>\n",
       "      <th>3879</th>\n",
       "      <td>Thriller</td>\n",
       "      <td>3835</td>\n",
       "      <td>Crush, The</td>\n",
       "      <td>1993</td>\n",
       "      <td>Thriller</td>\n",
       "      <td>None</td>\n",
       "      <td>None</td>\n",
       "      <td>None</td>\n",
       "      <td>None</td>\n",
       "      <td>None</td>\n",
       "      <td>1990.0</td>\n",
       "    </tr>\n",
       "    <tr>\n",
       "      <th>3880</th>\n",
       "      <td>Thriller</td>\n",
       "      <td>3849</td>\n",
       "      <td>Spiral Staircase, The</td>\n",
       "      <td>1946</td>\n",
       "      <td>Thriller</td>\n",
       "      <td>None</td>\n",
       "      <td>None</td>\n",
       "      <td>None</td>\n",
       "      <td>None</td>\n",
       "      <td>None</td>\n",
       "      <td>1940.0</td>\n",
       "    </tr>\n",
       "    <tr>\n",
       "      <th>3881</th>\n",
       "      <td>Thriller</td>\n",
       "      <td>3857</td>\n",
       "      <td>Bless the Child</td>\n",
       "      <td>2000</td>\n",
       "      <td>Thriller</td>\n",
       "      <td>None</td>\n",
       "      <td>None</td>\n",
       "      <td>None</td>\n",
       "      <td>None</td>\n",
       "      <td>None</td>\n",
       "      <td>2000.0</td>\n",
       "    </tr>\n",
       "    <tr>\n",
       "      <th>3882</th>\n",
       "      <td>Thriller</td>\n",
       "      <td>3947</td>\n",
       "      <td>Get Carter</td>\n",
       "      <td>1971</td>\n",
       "      <td>Thriller</td>\n",
       "      <td>None</td>\n",
       "      <td>None</td>\n",
       "      <td>None</td>\n",
       "      <td>None</td>\n",
       "      <td>None</td>\n",
       "      <td>1970.0</td>\n",
       "    </tr>\n",
       "  </tbody>\n",
       "</table>\n",
       "<p>3883 rows × 11 columns</p>\n",
       "</div>"
      ],
      "text/plain": [
       "        Genero    id               Pelicula   Any        G1    G2    G3    G4  \\\n",
       "0      Western   210              Wild Bill  1995   Western  None  None  None   \n",
       "1      Western   383             Wyatt Earp  1994   Western  None  None  None   \n",
       "2      Western   416              Bad Girls  1994   Western  None  None  None   \n",
       "3      Western   553              Tombstone  1993   Western  None  None  None   \n",
       "4      Western   599        Wild Bunch, The  1969   Western  None  None  None   \n",
       "...        ...   ...                    ...   ...       ...   ...   ...   ...   \n",
       "3878  Thriller  3798      What Lies Beneath  2000  Thriller  None  None  None   \n",
       "3879  Thriller  3835             Crush, The  1993  Thriller  None  None  None   \n",
       "3880  Thriller  3849  Spiral Staircase, The  1946  Thriller  None  None  None   \n",
       "3881  Thriller  3857        Bless the Child  2000  Thriller  None  None  None   \n",
       "3882  Thriller  3947             Get Carter  1971  Thriller  None  None  None   \n",
       "\n",
       "        G5    G6     Lus  \n",
       "0     None  None  1990.0  \n",
       "1     None  None  1990.0  \n",
       "2     None  None  1990.0  \n",
       "3     None  None  1990.0  \n",
       "4     None  None  1960.0  \n",
       "...    ...   ...     ...  \n",
       "3878  None  None  2000.0  \n",
       "3879  None  None  1990.0  \n",
       "3880  None  None  1940.0  \n",
       "3881  None  None  2000.0  \n",
       "3882  None  None  1970.0  \n",
       "\n",
       "[3883 rows x 11 columns]"
      ]
     },
     "execution_count": 123,
     "metadata": {},
     "output_type": "execute_result"
    }
   ],
   "source": [
    "pd.merge(gen,mov,left_on='Genero',right_on='G1')\n"
   ]
  },
  {
   "cell_type": "markdown",
   "id": "74bd352f",
   "metadata": {},
   "source": [
    "#### Agrupem tots els gèneres en un dataframe, amb l'id , l'any i la dècada"
   ]
  },
  {
   "cell_type": "code",
   "execution_count": 189,
   "id": "3af40526",
   "metadata": {},
   "outputs": [
    {
     "name": "stdout",
     "output_type": "stream",
     "text": [
      "        id        G1   Any     Lus\n",
      "1187  1205       War  1986  1980.0\n",
      "69      70  Thriller  1996  1990.0\n",
      "255    258   Romance  1995  1990.0\n",
      "554    558   Fantasy  1994  1990.0\n",
      "606    610    Sci-Fi  1981  1980.0\n",
      "...    ...       ...   ...     ...\n",
      "3878  3948    Comedy  2000  2000.0\n",
      "3879  3949     Drama  2000  2000.0\n",
      "3880  3950     Drama  2000  2000.0\n",
      "3881  3951     Drama  2000  2000.0\n",
      "3882  3952     Drama  2000  2000.0\n",
      "\n",
      "[6408 rows x 4 columns]\n"
     ]
    }
   ],
   "source": [
    "gen=pd.DataFrame(mov[['id','G6','Any','Lus']].loc[mov['G6'].notnull()])\n",
    "gen.rename(columns={'G6': 'G5'}, inplace=True)\n",
    "gen=pd.concat([gen,mov[['id','G5','Any','Lus']].loc[mov['G5'].notnull()]])\n",
    "gen.rename(columns={'G5': 'G4'}, inplace=True)\n",
    "gen=pd.concat([gen,mov[['id','G4','Any','Lus']].loc[mov['G4'].notnull()]])\n",
    "gen.rename(columns={'G4': 'G3'}, inplace=True)\n",
    "gen=pd.concat([gen,mov[['id','G3','Any','Lus']].loc[mov['G3'].notnull()]])\n",
    "gen.rename(columns={'G3': 'G2'}, inplace=True)\n",
    "gen=pd.concat([gen,mov[['id','G2','Any','Lus']].loc[mov['G2'].notnull()]])\n",
    "gen.rename(columns={'G2': 'G1'}, inplace=True)\n",
    "gen=pd.concat([gen,mov[['id','G1','Any','Lus']].loc[mov['G1'].notnull()]])\n",
    "print(gen)\n"
   ]
  },
  {
   "cell_type": "markdown",
   "id": "a7ba6fcd",
   "metadata": {},
   "source": [
    "#### Fem una gràfica amb les pelicules per gènere"
   ]
  },
  {
   "cell_type": "code",
   "execution_count": 180,
   "id": "2d8dbb42",
   "metadata": {},
   "outputs": [
    {
     "data": {
      "text/plain": [
       "Text(0, 0.5, 'Nº Pelicules')"
      ]
     },
     "execution_count": 180,
     "metadata": {},
     "output_type": "execute_result"
    },
    {
     "data": {
      "image/png": "[encoded data removed]",
      "text/plain": [
       "<Figure size 1008x576 with 1 Axes>"
      ]
     },
     "metadata": {
      "needs_background": "light"
     },
     "output_type": "display_data"
    }
   ],
   "source": [
    "ax = gen['G1'].value_counts().plot(kind='bar',figsize=(14,8),title=\"Pelicules per genere\")\n",
    "ax.set_xlabel(\"Genere\")\n",
    "ax.set_ylabel(\"Nº Pelicules\")"
   ]
  },
  {
   "cell_type": "markdown",
   "id": "de9d1178",
   "metadata": {},
   "source": [
    "# Exercici 3"
   ]
  },
  {
   "cell_type": "markdown",
   "id": "cddb5c90",
   "metadata": {},
   "source": [
    "#### En aquest exercici no us donarem gaires indicacions perquè volem que ens mostreu la vostra creativitat. Sorprèn-me amb gràfiques i interpretacions del dataset \"movies.dat\" del exercici anterior."
   ]
  },
  {
   "cell_type": "markdown",
   "id": "159617db",
   "metadata": {},
   "source": [
    "#### Fem una gràfica de bifote on visualitzem els gèneres de les pelicules. Es interessant perque es pot veure el anys de mes creació de pelicules per gènere, com el Western, Musical y Film-Noir, que tenen un any molt definit."
   ]
  },
  {
   "cell_type": "code",
   "execution_count": 193,
   "id": "54282649",
   "metadata": {},
   "outputs": [
    {
     "data": {
      "text/plain": [
       "(array([ 0,  1,  2,  3,  4,  5,  6,  7,  8,  9, 10, 11, 12, 13, 14, 15, 16,\n",
       "        17]),\n",
       " [Text(0, 0, 'Animation'),\n",
       "  Text(1, 0, 'Adventure'),\n",
       "  Text(2, 0, 'Comedy'),\n",
       "  Text(3, 0, 'Action'),\n",
       "  Text(4, 0, 'Drama'),\n",
       "  Text(5, 0, 'Thriller'),\n",
       "  Text(6, 0, 'Crime'),\n",
       "  Text(7, 0, 'Romance'),\n",
       "  Text(8, 0, \"Children's\"),\n",
       "  Text(9, 0, 'Documentary'),\n",
       "  Text(10, 0, 'Sci-Fi'),\n",
       "  Text(11, 0, 'Horror'),\n",
       "  Text(12, 0, 'Western'),\n",
       "  Text(13, 0, 'Mystery'),\n",
       "  Text(14, 0, 'Film-Noir'),\n",
       "  Text(15, 0, 'War'),\n",
       "  Text(16, 0, 'Fantasy'),\n",
       "  Text(17, 0, 'Musical')])"
      ]
     },
     "execution_count": 193,
     "metadata": {},
     "output_type": "execute_result"
    },
    {
     "data": {
      "image/png": "[encoded data removed]",
      "text/plain": [
       "<Figure size 360x360 with 1 Axes>"
      ]
     },
     "metadata": {
      "needs_background": "light"
     },
     "output_type": "display_data"
    }
   ],
   "source": [
    "sns.catplot(x = \"G1\", y = \"Any\", data = mov, kind = \"box\", whis = 3)\n",
    "plt.xticks(rotation=90, horizontalalignment=\"center\")"
   ]
  }
 ],
 "metadata": {
  "kernelspec": {
   "display_name": "Python 3 (ipykernel)",
   "language": "python",
   "name": "python3"
  },
  "language_info": {
   "codemirror_mode": {
    "name": "ipython",
    "version": 3
   },
   "file_extension": ".py",
   "mimetype": "text/x-python",
   "name": "python",
   "nbconvert_exporter": "python",
   "pygments_lexer": "ipython3",
   "version": "3.9.12"
  }
 },
 "nbformat": 4,
 "nbformat_minor": 5
}
